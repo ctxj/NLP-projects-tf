{
  "nbformat": 4,
  "nbformat_minor": 0,
  "metadata": {
    "colab": {
      "name": "nlp_lstm.ipynb",
      "provenance": [],
      "collapsed_sections": []
    },
    "kernelspec": {
      "name": "python3",
      "display_name": "Python 3"
    },
    "accelerator": "GPU"
  },
  "cells": [
    {
      "source": [
        "# LSTM Model for Text Classification\n",
        "Train the previous LSTM model with 1 million headlines news across 5,000 stocks     \n",
        "Headlines are the features and stocks' performance are labels  \n",
        "Use binary labels instead of categorical labels, 0 for negative and 1 for positive performance of daily closing prices\n",
        "\n",
        "## Training on the cloud\n",
        "Model was trained on the cloud using Google's Colab"
      ],
      "cell_type": "markdown",
      "metadata": {}
    },
    {
      "cell_type": "code",
      "metadata": {
        "id": "mx0WzSaDhJbS"
      },
      "source": [
        "import tensorflow as tf\r\n",
        "import numpy as np\r\n",
        "import pandas as pd\r\n",
        "import matplotlib.pyplot as plt\r\n",
        "from sklearn.model_selection import train_test_split\r\n",
        "\r\n",
        "from tensorflow.keras.preprocessing.text import Tokenizer\r\n",
        "from tensorflow.keras.preprocessing.sequence import pad_sequences\r\n",
        "from tensorflow.keras.callbacks import ModelCheckpoint"
      ],
      "execution_count": 1,
      "outputs": []
    },
    {
      "source": [
        "Upload data to Colab\n",
        "\n",
        "Data from Kaggle 'https://www.kaggle.com/miguelaenlle/massive-stock-news-analysis-db-for-nlpbacktests?select=analyst_ratings_processed.csv' which was processed\n",
        " \n"
      ],
      "cell_type": "markdown",
      "metadata": {}
    },
    {
      "cell_type": "code",
      "metadata": {
        "colab": {
          "resources": {
            "http://localhost:8080/nbextensions/google.colab/files.js": {
              "data": "Ly8gQ29weXJpZ2h0IDIwMTcgR29vZ2xlIExMQwovLwovLyBMaWNlbnNlZCB1bmRlciB0aGUgQXBhY2hlIExpY2Vuc2UsIFZlcnNpb24gMi4wICh0aGUgIkxpY2Vuc2UiKTsKLy8geW91IG1heSBub3QgdXNlIHRoaXMgZmlsZSBleGNlcHQgaW4gY29tcGxpYW5jZSB3aXRoIHRoZSBMaWNlbnNlLgovLyBZb3UgbWF5IG9idGFpbiBhIGNvcHkgb2YgdGhlIExpY2Vuc2UgYXQKLy8KLy8gICAgICBodHRwOi8vd3d3LmFwYWNoZS5vcmcvbGljZW5zZXMvTElDRU5TRS0yLjAKLy8KLy8gVW5sZXNzIHJlcXVpcmVkIGJ5IGFwcGxpY2FibGUgbGF3IG9yIGFncmVlZCB0byBpbiB3cml0aW5nLCBzb2Z0d2FyZQovLyBkaXN0cmlidXRlZCB1bmRlciB0aGUgTGljZW5zZSBpcyBkaXN0cmlidXRlZCBvbiBhbiAiQVMgSVMiIEJBU0lTLAovLyBXSVRIT1VUIFdBUlJBTlRJRVMgT1IgQ09ORElUSU9OUyBPRiBBTlkgS0lORCwgZWl0aGVyIGV4cHJlc3Mgb3IgaW1wbGllZC4KLy8gU2VlIHRoZSBMaWNlbnNlIGZvciB0aGUgc3BlY2lmaWMgbGFuZ3VhZ2UgZ292ZXJuaW5nIHBlcm1pc3Npb25zIGFuZAovLyBsaW1pdGF0aW9ucyB1bmRlciB0aGUgTGljZW5zZS4KCi8qKgogKiBAZmlsZW92ZXJ2aWV3IEhlbHBlcnMgZm9yIGdvb2dsZS5jb2xhYiBQeXRob24gbW9kdWxlLgogKi8KKGZ1bmN0aW9uKHNjb3BlKSB7CmZ1bmN0aW9uIHNwYW4odGV4dCwgc3R5bGVBdHRyaWJ1dGVzID0ge30pIHsKICBjb25zdCBlbGVtZW50ID0gZG9jdW1lbnQuY3JlYXRlRWxlbWVudCgnc3BhbicpOwogIGVsZW1lbnQudGV4dENvbnRlbnQgPSB0ZXh0OwogIGZvciAoY29uc3Qga2V5IG9mIE9iamVjdC5rZXlzKHN0eWxlQXR0cmlidXRlcykpIHsKICAgIGVsZW1lbnQuc3R5bGVba2V5XSA9IHN0eWxlQXR0cmlidXRlc1trZXldOwogIH0KICByZXR1cm4gZWxlbWVudDsKfQoKLy8gTWF4IG51bWJlciBvZiBieXRlcyB3aGljaCB3aWxsIGJlIHVwbG9hZGVkIGF0IGEgdGltZS4KY29uc3QgTUFYX1BBWUxPQURfU0laRSA9IDEwMCAqIDEwMjQ7CgpmdW5jdGlvbiBfdXBsb2FkRmlsZXMoaW5wdXRJZCwgb3V0cHV0SWQpIHsKICBjb25zdCBzdGVwcyA9IHVwbG9hZEZpbGVzU3RlcChpbnB1dElkLCBvdXRwdXRJZCk7CiAgY29uc3Qgb3V0cHV0RWxlbWVudCA9IGRvY3VtZW50LmdldEVsZW1lbnRCeUlkKG91dHB1dElkKTsKICAvLyBDYWNoZSBzdGVwcyBvbiB0aGUgb3V0cHV0RWxlbWVudCB0byBtYWtlIGl0IGF2YWlsYWJsZSBmb3IgdGhlIG5leHQgY2FsbAogIC8vIHRvIHVwbG9hZEZpbGVzQ29udGludWUgZnJvbSBQeXRob24uCiAgb3V0cHV0RWxlbWVudC5zdGVwcyA9IHN0ZXBzOwoKICByZXR1cm4gX3VwbG9hZEZpbGVzQ29udGludWUob3V0cHV0SWQpOwp9CgovLyBUaGlzIGlzIHJvdWdobHkgYW4gYXN5bmMgZ2VuZXJhdG9yIChub3Qgc3VwcG9ydGVkIGluIHRoZSBicm93c2VyIHlldCksCi8vIHdoZXJlIHRoZXJlIGFyZSBtdWx0aXBsZSBhc3luY2hyb25vdXMgc3RlcHMgYW5kIHRoZSBQeXRob24gc2lkZSBpcyBnb2luZwovLyB0byBwb2xsIGZvciBjb21wbGV0aW9uIG9mIGVhY2ggc3RlcC4KLy8gVGhpcyB1c2VzIGEgUHJvbWlzZSB0byBibG9jayB0aGUgcHl0aG9uIHNpZGUgb24gY29tcGxldGlvbiBvZiBlYWNoIHN0ZXAsCi8vIHRoZW4gcGFzc2VzIHRoZSByZXN1bHQgb2YgdGhlIHByZXZpb3VzIHN0ZXAgYXMgdGhlIGlucHV0IHRvIHRoZSBuZXh0IHN0ZXAuCmZ1bmN0aW9uIF91cGxvYWRGaWxlc0NvbnRpbnVlKG91dHB1dElkKSB7CiAgY29uc3Qgb3V0cHV0RWxlbWVudCA9IGRvY3VtZW50LmdldEVsZW1lbnRCeUlkKG91dHB1dElkKTsKICBjb25zdCBzdGVwcyA9IG91dHB1dEVsZW1lbnQuc3RlcHM7CgogIGNvbnN0IG5leHQgPSBzdGVwcy5uZXh0KG91dHB1dEVsZW1lbnQubGFzdFByb21pc2VWYWx1ZSk7CiAgcmV0dXJuIFByb21pc2UucmVzb2x2ZShuZXh0LnZhbHVlLnByb21pc2UpLnRoZW4oKHZhbHVlKSA9PiB7CiAgICAvLyBDYWNoZSB0aGUgbGFzdCBwcm9taXNlIHZhbHVlIHRvIG1ha2UgaXQgYXZhaWxhYmxlIHRvIHRoZSBuZXh0CiAgICAvLyBzdGVwIG9mIHRoZSBnZW5lcmF0b3IuCiAgICBvdXRwdXRFbGVtZW50Lmxhc3RQcm9taXNlVmFsdWUgPSB2YWx1ZTsKICAgIHJldHVybiBuZXh0LnZhbHVlLnJlc3BvbnNlOwogIH0pOwp9CgovKioKICogR2VuZXJhdG9yIGZ1bmN0aW9uIHdoaWNoIGlzIGNhbGxlZCBiZXR3ZWVuIGVhY2ggYXN5bmMgc3RlcCBvZiB0aGUgdXBsb2FkCiAqIHByb2Nlc3MuCiAqIEBwYXJhbSB7c3RyaW5nfSBpbnB1dElkIEVsZW1lbnQgSUQgb2YgdGhlIGlucHV0IGZpbGUgcGlja2VyIGVsZW1lbnQuCiAqIEBwYXJhbSB7c3RyaW5nfSBvdXRwdXRJZCBFbGVtZW50IElEIG9mIHRoZSBvdXRwdXQgZGlzcGxheS4KICogQHJldHVybiB7IUl0ZXJhYmxlPCFPYmplY3Q+fSBJdGVyYWJsZSBvZiBuZXh0IHN0ZXBzLgogKi8KZnVuY3Rpb24qIHVwbG9hZEZpbGVzU3RlcChpbnB1dElkLCBvdXRwdXRJZCkgewogIGNvbnN0IGlucHV0RWxlbWVudCA9IGRvY3VtZW50LmdldEVsZW1lbnRCeUlkKGlucHV0SWQpOwogIGlucHV0RWxlbWVudC5kaXNhYmxlZCA9IGZhbHNlOwoKICBjb25zdCBvdXRwdXRFbGVtZW50ID0gZG9jdW1lbnQuZ2V0RWxlbWVudEJ5SWQob3V0cHV0SWQpOwogIG91dHB1dEVsZW1lbnQuaW5uZXJIVE1MID0gJyc7CgogIGNvbnN0IHBpY2tlZFByb21pc2UgPSBuZXcgUHJvbWlzZSgocmVzb2x2ZSkgPT4gewogICAgaW5wdXRFbGVtZW50LmFkZEV2ZW50TGlzdGVuZXIoJ2NoYW5nZScsIChlKSA9PiB7CiAgICAgIHJlc29sdmUoZS50YXJnZXQuZmlsZXMpOwogICAgfSk7CiAgfSk7CgogIGNvbnN0IGNhbmNlbCA9IGRvY3VtZW50LmNyZWF0ZUVsZW1lbnQoJ2J1dHRvbicpOwogIGlucHV0RWxlbWVudC5wYXJlbnRFbGVtZW50LmFwcGVuZENoaWxkKGNhbmNlbCk7CiAgY2FuY2VsLnRleHRDb250ZW50ID0gJ0NhbmNlbCB1cGxvYWQnOwogIGNvbnN0IGNhbmNlbFByb21pc2UgPSBuZXcgUHJvbWlzZSgocmVzb2x2ZSkgPT4gewogICAgY2FuY2VsLm9uY2xpY2sgPSAoKSA9PiB7CiAgICAgIHJlc29sdmUobnVsbCk7CiAgICB9OwogIH0pOwoKICAvLyBXYWl0IGZvciB0aGUgdXNlciB0byBwaWNrIHRoZSBmaWxlcy4KICBjb25zdCBmaWxlcyA9IHlpZWxkIHsKICAgIHByb21pc2U6IFByb21pc2UucmFjZShbcGlja2VkUHJvbWlzZSwgY2FuY2VsUHJvbWlzZV0pLAogICAgcmVzcG9uc2U6IHsKICAgICAgYWN0aW9uOiAnc3RhcnRpbmcnLAogICAgfQogIH07CgogIGNhbmNlbC5yZW1vdmUoKTsKCiAgLy8gRGlzYWJsZSB0aGUgaW5wdXQgZWxlbWVudCBzaW5jZSBmdXJ0aGVyIHBpY2tzIGFyZSBub3QgYWxsb3dlZC4KICBpbnB1dEVsZW1lbnQuZGlzYWJsZWQgPSB0cnVlOwoKICBpZiAoIWZpbGVzKSB7CiAgICByZXR1cm4gewogICAgICByZXNwb25zZTogewogICAgICAgIGFjdGlvbjogJ2NvbXBsZXRlJywKICAgICAgfQogICAgfTsKICB9CgogIGZvciAoY29uc3QgZmlsZSBvZiBmaWxlcykgewogICAgY29uc3QgbGkgPSBkb2N1bWVudC5jcmVhdGVFbGVtZW50KCdsaScpOwogICAgbGkuYXBwZW5kKHNwYW4oZmlsZS5uYW1lLCB7Zm9udFdlaWdodDogJ2JvbGQnfSkpOwogICAgbGkuYXBwZW5kKHNwYW4oCiAgICAgICAgYCgke2ZpbGUudHlwZSB8fCAnbi9hJ30pIC0gJHtmaWxlLnNpemV9IGJ5dGVzLCBgICsKICAgICAgICBgbGFzdCBtb2RpZmllZDogJHsKICAgICAgICAgICAgZmlsZS5sYXN0TW9kaWZpZWREYXRlID8gZmlsZS5sYXN0TW9kaWZpZWREYXRlLnRvTG9jYWxlRGF0ZVN0cmluZygpIDoKICAgICAgICAgICAgICAgICAgICAgICAgICAgICAgICAgICAgJ24vYSd9IC0gYCkpOwogICAgY29uc3QgcGVyY2VudCA9IHNwYW4oJzAlIGRvbmUnKTsKICAgIGxpLmFwcGVuZENoaWxkKHBlcmNlbnQpOwoKICAgIG91dHB1dEVsZW1lbnQuYXBwZW5kQ2hpbGQobGkpOwoKICAgIGNvbnN0IGZpbGVEYXRhUHJvbWlzZSA9IG5ldyBQcm9taXNlKChyZXNvbHZlKSA9PiB7CiAgICAgIGNvbnN0IHJlYWRlciA9IG5ldyBGaWxlUmVhZGVyKCk7CiAgICAgIHJlYWRlci5vbmxvYWQgPSAoZSkgPT4gewogICAgICAgIHJlc29sdmUoZS50YXJnZXQucmVzdWx0KTsKICAgICAgfTsKICAgICAgcmVhZGVyLnJlYWRBc0FycmF5QnVmZmVyKGZpbGUpOwogICAgfSk7CiAgICAvLyBXYWl0IGZvciB0aGUgZGF0YSB0byBiZSByZWFkeS4KICAgIGxldCBmaWxlRGF0YSA9IHlpZWxkIHsKICAgICAgcHJvbWlzZTogZmlsZURhdGFQcm9taXNlLAogICAgICByZXNwb25zZTogewogICAgICAgIGFjdGlvbjogJ2NvbnRpbnVlJywKICAgICAgfQogICAgfTsKCiAgICAvLyBVc2UgYSBjaHVua2VkIHNlbmRpbmcgdG8gYXZvaWQgbWVzc2FnZSBzaXplIGxpbWl0cy4gU2VlIGIvNjIxMTU2NjAuCiAgICBsZXQgcG9zaXRpb24gPSAwOwogICAgd2hpbGUgKHBvc2l0aW9uIDwgZmlsZURhdGEuYnl0ZUxlbmd0aCkgewogICAgICBjb25zdCBsZW5ndGggPSBNYXRoLm1pbihmaWxlRGF0YS5ieXRlTGVuZ3RoIC0gcG9zaXRpb24sIE1BWF9QQVlMT0FEX1NJWkUpOwogICAgICBjb25zdCBjaHVuayA9IG5ldyBVaW50OEFycmF5KGZpbGVEYXRhLCBwb3NpdGlvbiwgbGVuZ3RoKTsKICAgICAgcG9zaXRpb24gKz0gbGVuZ3RoOwoKICAgICAgY29uc3QgYmFzZTY0ID0gYnRvYShTdHJpbmcuZnJvbUNoYXJDb2RlLmFwcGx5KG51bGwsIGNodW5rKSk7CiAgICAgIHlpZWxkIHsKICAgICAgICByZXNwb25zZTogewogICAgICAgICAgYWN0aW9uOiAnYXBwZW5kJywKICAgICAgICAgIGZpbGU6IGZpbGUubmFtZSwKICAgICAgICAgIGRhdGE6IGJhc2U2NCwKICAgICAgICB9LAogICAgICB9OwogICAgICBwZXJjZW50LnRleHRDb250ZW50ID0KICAgICAgICAgIGAke01hdGgucm91bmQoKHBvc2l0aW9uIC8gZmlsZURhdGEuYnl0ZUxlbmd0aCkgKiAxMDApfSUgZG9uZWA7CiAgICB9CiAgfQoKICAvLyBBbGwgZG9uZS4KICB5aWVsZCB7CiAgICByZXNwb25zZTogewogICAgICBhY3Rpb246ICdjb21wbGV0ZScsCiAgICB9CiAgfTsKfQoKc2NvcGUuZ29vZ2xlID0gc2NvcGUuZ29vZ2xlIHx8IHt9OwpzY29wZS5nb29nbGUuY29sYWIgPSBzY29wZS5nb29nbGUuY29sYWIgfHwge307CnNjb3BlLmdvb2dsZS5jb2xhYi5fZmlsZXMgPSB7CiAgX3VwbG9hZEZpbGVzLAogIF91cGxvYWRGaWxlc0NvbnRpbnVlLAp9Owp9KShzZWxmKTsK",
              "ok": true,
              "headers": [
                [
                  "content-type",
                  "application/javascript"
                ]
              ],
              "status": 200,
              "status_text": ""
            }
          },
          "base_uri": "https://localhost:8080/",
          "height": 72
        },
        "id": "Q9t6n0aJhYJI",
        "outputId": "255ac9af-e35f-46e0-c30c-71b845849c72"
      },
      "source": [
        "from google.colab import files\r\n",
        "\r\n",
        "uploaded = files.upload()"
      ],
      "execution_count": 2,
      "outputs": [
        {
          "output_type": "display_data",
          "data": {
            "text/html": [
              "\n",
              "     <input type=\"file\" id=\"files-8f326a51-f08a-42e7-b88a-922d9693cf74\" name=\"files[]\" multiple disabled\n",
              "        style=\"border:none\" />\n",
              "     <output id=\"result-8f326a51-f08a-42e7-b88a-922d9693cf74\">\n",
              "      Upload widget is only available when the cell has been executed in the\n",
              "      current browser session. Please rerun this cell to enable.\n",
              "      </output>\n",
              "      <script src=\"/nbextensions/google.colab/files.js\"></script> "
            ],
            "text/plain": [
              "<IPython.core.display.HTML object>"
            ]
          },
          "metadata": {
            "tags": []
          }
        },
        {
          "output_type": "stream",
          "text": [
            "Saving headlines_labeled.csv to headlines_labeled.csv\n"
          ],
          "name": "stdout"
        }
      ]
    },
    {
      "cell_type": "code",
      "metadata": {
        "id": "04plCZK8hYq8"
      },
      "source": [
        "df = pd.read_csv('headlines_labeled.csv')\n",
        "\n",
        "headlines = df.title.values\n",
        "labels = df.label.values\n",
        "\n",
        "# Model requirements\n",
        "\n",
        "vocab_size = 1000 #Vocabulary size\n",
        "embedding_dim = 16 #Number of dimension of word embedding\n",
        "max_length = 100 #Max length of sequence, headline should not be longer then 100 words\n",
        "trunc_type = 'post' #Cut off after max length\n",
        "padding_type = 'post' #Pad sequence at the end to fill max length\n",
        "oov_tok = \"<OOV>\" #replace word that are not in vocabulary with out of vocab token \n",
        "training_size = int(len(df)*0.8) #splits data 80% for testing and 20% for validation\n",
        "\n",
        "#Split training and testing data\n",
        "train_hl, test_hl, train_l, test_l = train_test_split(headlines, labels, test_size=0.2, random_state=42)\n",
        "\n",
        "# Tokenizing words, assigning values to most common words and out of vocab words with \"<OOV>\"\n",
        "\n",
        "tokenizer = Tokenizer(num_words=vocab_size, oov_token=oov_tok)\n",
        "tokenizer.fit_on_texts(train_hl)\n",
        "\n",
        "word_index = tokenizer.word_index\n",
        "\n",
        "train_seq = tokenizer.texts_to_sequences(train_hl)\n",
        "train_pad = pad_sequences(train_seq, maxlen=max_length, padding=padding_type, truncating=trunc_type)\n",
        "\n",
        "test_seq = tokenizer.texts_to_sequences(test_hl)\n",
        "test_pad = pad_sequences(test_seq, maxlen=max_length, padding=padding_type, truncating=trunc_type)"
      ],
      "execution_count": 4,
      "outputs": []
    },
    {
      "source": [
        "LSTM Model"
      ],
      "cell_type": "markdown",
      "metadata": {}
    },
    {
      "cell_type": "code",
      "metadata": {
        "id": "AY0KSPx8hnGN"
      },
      "source": [
        "model = tf.keras.Sequential([\r\n",
        "    tf.keras.layers.Embedding(vocab_size, embedding_dim, input_length=max_length),    \r\n",
        "    tf.keras.layers.Bidirectional(tf.keras.layers.LSTM(62, return_sequences=True)),\r\n",
        "    tf.keras.layers.Bidirectional(tf.keras.layers.LSTM(32)),\r\n",
        "    tf.keras.layers.Dense(32, activation='relu'),\r\n",
        "    tf.keras.layers.Dense(1, activation='sigmoid') #2 categories bases off stock performance, negative or positive\r\n",
        "])\r\n",
        "\r\n",
        "model.compile(loss='binary_crossentropy', optimizer='adam', metrics=['accuracy'])\r\n",
        "\r\n",
        "#convert tokenizered words into numpy array\r\n",
        "train_pad = np.array(train_pad)\r\n",
        "train_l = np.array(train_l)\r\n",
        "test_pad = np.array(test_pad)\r\n",
        "test_l = np.array(test_l)"
      ],
      "execution_count": 5,
      "outputs": []
    },
    {
      "source": [
        "Train 50 epochs, roughly 8 minutes per epoch  \n",
        "Save best model, using checkpoints callback"
      ],
      "cell_type": "markdown",
      "metadata": {}
    },
    {
      "cell_type": "code",
      "metadata": {
        "colab": {
          "base_uri": "https://localhost:8080/"
        },
        "id": "efePLtKBhsps",
        "outputId": "cc4f0309-2d8d-439d-edea-9ef8c2730ac6"
      },
      "source": [
        "epochs = 50\n",
        "\n",
        "checkpoint_callback = [ModelCheckpoint(filepath=\"NLP_BiLSTM_model.hdf5\", monitor='accuracy', save_best_only=True, mode='max')]\n",
        "history = model.fit(train_pad, train_l, epochs=epochs, batch_size=29, callbacks=checkpoint_callback, verbose=1)\n",
        "\n",
        "model.save('NLP_BiLSTM_model.h5')"
      ],
      "execution_count": 6,
      "outputs": [
        {
          "output_type": "stream",
          "text": [
            "Epoch 1/50\n",
            "27836/27836 [==============================] - 553s 20ms/step - loss: 0.6499 - accuracy: 0.5852\n",
            "Epoch 2/50\n",
            "27836/27836 [==============================] - 541s 19ms/step - loss: 0.6382 - accuracy: 0.5985\n",
            "Epoch 3/50\n",
            "27836/27836 [==============================] - 539s 19ms/step - loss: 0.6348 - accuracy: 0.6008\n",
            "Epoch 4/50\n",
            "27836/27836 [==============================] - 538s 19ms/step - loss: 0.6340 - accuracy: 0.6016\n",
            "Epoch 5/50\n",
            "27836/27836 [==============================] - 544s 20ms/step - loss: 0.6324 - accuracy: 0.6047\n",
            "Epoch 6/50\n",
            "27836/27836 [==============================] - 543s 19ms/step - loss: 0.6315 - accuracy: 0.6049\n",
            "Epoch 7/50\n",
            "27836/27836 [==============================] - 536s 19ms/step - loss: 0.6296 - accuracy: 0.6089\n",
            "Epoch 8/50\n",
            "27836/27836 [==============================] - 534s 19ms/step - loss: 0.6282 - accuracy: 0.6111\n",
            "Epoch 9/50\n",
            "27836/27836 [==============================] - 535s 19ms/step - loss: 0.6269 - accuracy: 0.6126\n",
            "Epoch 10/50\n",
            "27836/27836 [==============================] - 532s 19ms/step - loss: 0.6247 - accuracy: 0.6155\n",
            "Epoch 11/50\n",
            "27836/27836 [==============================] - 531s 19ms/step - loss: 0.6228 - accuracy: 0.6180\n",
            "Epoch 12/50\n",
            "27836/27836 [==============================] - 531s 19ms/step - loss: 0.6220 - accuracy: 0.6180\n",
            "Epoch 13/50\n",
            "27836/27836 [==============================] - 535s 19ms/step - loss: 0.6209 - accuracy: 0.6200\n",
            "Epoch 14/50\n",
            "27836/27836 [==============================] - 529s 19ms/step - loss: 0.6192 - accuracy: 0.6214\n",
            "Epoch 15/50\n",
            "27836/27836 [==============================] - 533s 19ms/step - loss: 0.6181 - accuracy: 0.6238\n",
            "Epoch 16/50\n",
            "27836/27836 [==============================] - 536s 19ms/step - loss: 0.6171 - accuracy: 0.6249\n",
            "Epoch 17/50\n",
            "27836/27836 [==============================] - 524s 19ms/step - loss: 0.6155 - accuracy: 0.6258\n",
            "Epoch 18/50\n",
            "27836/27836 [==============================] - 509s 18ms/step - loss: 0.6156 - accuracy: 0.6261\n",
            "Epoch 19/50\n",
            "27836/27836 [==============================] - 510s 18ms/step - loss: 0.6138 - accuracy: 0.6289\n",
            "Epoch 20/50\n",
            "27836/27836 [==============================] - 502s 18ms/step - loss: 0.6144 - accuracy: 0.6284\n",
            "Epoch 21/50\n",
            "27836/27836 [==============================] - 504s 18ms/step - loss: 0.6125 - accuracy: 0.6299\n",
            "Epoch 22/50\n",
            "27836/27836 [==============================] - 499s 18ms/step - loss: 0.6118 - accuracy: 0.6311\n",
            "Epoch 23/50\n",
            "27836/27836 [==============================] - 498s 18ms/step - loss: 0.6119 - accuracy: 0.6314\n",
            "Epoch 24/50\n",
            "27836/27836 [==============================] - 501s 18ms/step - loss: 0.6115 - accuracy: 0.6318\n",
            "Epoch 25/50\n",
            "27836/27836 [==============================] - 503s 18ms/step - loss: 0.6110 - accuracy: 0.6322\n",
            "Epoch 26/50\n",
            "27836/27836 [==============================] - 500s 18ms/step - loss: 0.6105 - accuracy: 0.6330\n",
            "Epoch 27/50\n",
            "27836/27836 [==============================] - 501s 18ms/step - loss: 0.6103 - accuracy: 0.6337\n",
            "Epoch 28/50\n",
            "27836/27836 [==============================] - 500s 18ms/step - loss: 0.6104 - accuracy: 0.6332\n",
            "Epoch 29/50\n",
            "27836/27836 [==============================] - 500s 18ms/step - loss: 0.6102 - accuracy: 0.6332\n",
            "Epoch 30/50\n",
            "27836/27836 [==============================] - 501s 18ms/step - loss: 0.6102 - accuracy: 0.6344\n",
            "Epoch 31/50\n",
            "27836/27836 [==============================] - 500s 18ms/step - loss: 0.6092 - accuracy: 0.6354\n",
            "Epoch 32/50\n",
            "27836/27836 [==============================] - 503s 18ms/step - loss: 0.6094 - accuracy: 0.6351\n",
            "Epoch 33/50\n",
            "27836/27836 [==============================] - 516s 19ms/step - loss: 0.6102 - accuracy: 0.6342\n",
            "Epoch 34/50\n",
            "27836/27836 [==============================] - 528s 19ms/step - loss: 0.6091 - accuracy: 0.6356\n",
            "Epoch 35/50\n",
            "27836/27836 [==============================] - 528s 19ms/step - loss: 0.6094 - accuracy: 0.6349\n",
            "Epoch 36/50\n",
            "27836/27836 [==============================] - 521s 19ms/step - loss: 0.6105 - accuracy: 0.6342\n",
            "Epoch 37/50\n",
            "27836/27836 [==============================] - 512s 18ms/step - loss: 0.6095 - accuracy: 0.6365\n",
            "Epoch 38/50\n",
            "27836/27836 [==============================] - 511s 18ms/step - loss: 0.6093 - accuracy: 0.6354\n",
            "Epoch 39/50\n",
            "27836/27836 [==============================] - 509s 18ms/step - loss: 0.6102 - accuracy: 0.6346\n",
            "Epoch 40/50\n",
            "27836/27836 [==============================] - 504s 18ms/step - loss: 0.6093 - accuracy: 0.6365\n",
            "Epoch 41/50\n",
            "27836/27836 [==============================] - 508s 18ms/step - loss: 0.6098 - accuracy: 0.6369\n",
            "Epoch 42/50\n",
            "27836/27836 [==============================] - 506s 18ms/step - loss: 0.6096 - accuracy: 0.6362\n",
            "Epoch 43/50\n",
            "27836/27836 [==============================] - 509s 18ms/step - loss: 0.6092 - accuracy: 0.6364\n",
            "Epoch 44/50\n",
            "27836/27836 [==============================] - 507s 18ms/step - loss: 0.6097 - accuracy: 0.6365\n",
            "Epoch 45/50\n",
            "27836/27836 [==============================] - 505s 18ms/step - loss: 0.6111 - accuracy: 0.6344\n",
            "Epoch 46/50\n",
            "27836/27836 [==============================] - 507s 18ms/step - loss: 0.6106 - accuracy: 0.6355\n",
            "Epoch 47/50\n",
            "27836/27836 [==============================] - 524s 19ms/step - loss: 0.6108 - accuracy: 0.6343\n",
            "Epoch 48/50\n",
            "27836/27836 [==============================] - 510s 18ms/step - loss: 0.6110 - accuracy: 0.6351\n",
            "Epoch 49/50\n",
            "27836/27836 [==============================] - 510s 18ms/step - loss: 0.6114 - accuracy: 0.6335\n",
            "Epoch 50/50\n",
            "27836/27836 [==============================] - 506s 18ms/step - loss: 0.6116 - accuracy: 0.6342\n"
          ],
          "name": "stdout"
        }
      ]
    },
    {
      "source": [
        "Test model on unseen headlines"
      ],
      "cell_type": "markdown",
      "metadata": {}
    },
    {
      "cell_type": "code",
      "metadata": {
        "id": "IyRa6NduiSAB"
      },
      "source": [
        "pred = model.predict(test_pad)\n",
        "pred_test = pred.flatten().tolist()\n",
        "\n",
        "result = pd.DataFrame(data={'headllines' : test_hl, 'labels' : test_l, 'predicted' : pred_test})\n",
        "\n",
        "result['predicted'] = np.where(d['predicted'] < 0.5, 0, 1) #Convert predicted values to 0 and 1, 0 for negative and 1 for positive headlines\n",
        "\n",
        "result['val'] = np.where(result['labels'] == result['predicted'], 1, 0) #Map correct predictions to labels\n",
        "\n",
        "result['results'] = result['val'].value_counts(normalize=True)\n",
        "\n",
        "result.to_csv('predict_headlines.csv')"
      ],
      "execution_count": 7,
      "outputs": []
    },
    {
      "source": [
        "Amount of negative and positive headlines are balanced"
      ],
      "cell_type": "markdown",
      "metadata": {}
    },
    {
      "cell_type": "code",
      "metadata": {
        "colab": {
          "base_uri": "https://localhost:8080/"
        },
        "id": "mlWX_tn5MgVo",
        "outputId": "81de9373-f6e2-4ee3-8f6b-5dbf2134ddac"
      },
      "source": [
        "result['labels'].value_counts()"
      ],
      "execution_count": 13,
      "outputs": [
        {
          "output_type": "execute_result",
          "data": {
            "text/plain": [
              "1    105995\n",
              "0     95817\n",
              "Name: labels, dtype: int64"
            ]
          },
          "metadata": {
            "tags": []
          },
          "execution_count": 13
        }
      ]
    },
    {
      "source": [
        "Model's accuracy was 60% when tested on unseen data"
      ],
      "cell_type": "markdown",
      "metadata": {}
    },
    {
      "cell_type": "code",
      "metadata": {
        "colab": {
          "base_uri": "https://localhost:8080/"
        },
        "id": "n0B1hM_RL6L1",
        "outputId": "d8b7f9b1-23c7-4092-fef7-cd4d8ca5b251"
      },
      "source": [
        "print(d['val'].value_counts(normalize=True)) "
      ],
      "execution_count": 14,
      "outputs": [
        {
          "output_type": "stream",
          "text": [
            "1    0.602635\n",
            "0    0.397365\n",
            "Name: val, dtype: float64\n"
          ],
          "name": "stdout"
        }
      ]
    },
    {
      "source": [
        "# Visualising Training\n",
        "\n",
        "Training accuracy peaked at 40 epochs while loss was creeping up after 40 epochs"
      ],
      "cell_type": "markdown",
      "metadata": {}
    },
    {
      "cell_type": "code",
      "metadata": {
        "colab": {
          "base_uri": "https://localhost:8080/",
          "height": 298
        },
        "id": "ObKLsFGTKKy9",
        "outputId": "1e28b38a-5d14-4cd9-ad29-8be9a90330aa"
      },
      "source": [
        "epoch = range(len(history.history['accuracy']))\r\n",
        "loss = history.history['loss']\r\n",
        "acc = history.history['accuracy']\r\n",
        "\r\n",
        "plt.plot(epoch, acc)\r\n",
        "plt.plot(epoch, loss)\r\n",
        "plt.title('Accuracy and Loss')\r\n",
        "plt.legend(['Acc', 'Loss'])\r\n",
        "plt.show"
      ],
      "execution_count": 15,
      "outputs": [
        {
          "output_type": "execute_result",
          "data": {
            "text/plain": [
              "<function matplotlib.pyplot.show>"
            ]
          },
          "metadata": {
            "tags": []
          },
          "execution_count": 15
        },
        {
          "output_type": "display_data",
          "data": {
            "image/png": "[encoded data removed]",
            "text/plain": [
              "<Figure size 432x288 with 1 Axes>"
            ]
          },
          "metadata": {
            "tags": [],
            "needs_background": "light"
          }
        }
      ]
    },
    {
      "source": [
        "# Conclusion\n",
        "Training with more data, the same model was able to learn and make better predictions compared to using the limited data from scraping news outlets  \n",
        "Model was able to learn from headline news across 5,000 stocks, increasing its usefulness\n",
        "\n",
        "With proper risk and money management, 60% accuracy could lead to profitable trades over long periods\n",
        "## Next step\n",
        "Training on bigger model, example \"BERT\" (limited by current setup, 1 epoch of training on BERT takes 24 hours while Google Colab hard timeout at 12 hours)\n",
        "\n",
        "**Deploying model**\n",
        "* Scrape current headlines news to feed into model for predictions\n",
        "* Add risk and money management features"
      ],
      "cell_type": "markdown",
      "metadata": {}
    }
  ]
}